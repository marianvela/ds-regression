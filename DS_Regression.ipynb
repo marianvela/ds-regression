{
  "nbformat": 4,
  "nbformat_minor": 0,
  "metadata": {
    "colab": {
      "provenance": []
    },
    "kernelspec": {
      "name": "python3",
      "display_name": "Python 3"
    },
    "language_info": {
      "name": "python"
    }
  },
  "cells": [
    {
      "cell_type": "code",
      "execution_count": 2,
      "metadata": {
        "id": "KKBteXvGICiX"
      },
      "outputs": [],
      "source": [
        "# import libraries\n",
        "import numpy as np\n",
        "import pandas as pd\n",
        "import seaborn as sns\n",
        "import matplotlib\n",
        "import matplotlib.pyplot as plt\n",
        "from sklearn import model_selection, metrics, linear_model"
      ]
    },
    {
      "cell_type": "code",
      "source": [
        "# load files\n",
        "data = np.load('path_to_file.npy')"
      ],
      "metadata": {
        "id": "Oajem-hqjdB0"
      },
      "execution_count": null,
      "outputs": []
    }
  ]
}